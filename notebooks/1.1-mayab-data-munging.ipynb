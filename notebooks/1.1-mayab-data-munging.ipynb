{
 "cells": [
  {
   "cell_type": "code",
   "execution_count": 1,
   "metadata": {},
   "outputs": [
    {
     "data": {
      "text/html": [
       "<style>.container { width:100% !important; }</style>"
      ],
      "text/plain": [
       "<IPython.core.display.HTML object>"
      ]
     },
     "metadata": {},
     "output_type": "display_data"
    }
   ],
   "source": [
    "import os\n",
    "import sys\n",
    "ROOT_DIR = os.path.dirname(os.path.abspath('..'))\n",
    "sys.path.insert(0, os.path.abspath(ROOT_DIR))\n",
    "\n",
    "%load_ext autoreload\n",
    "%autoreload 2\n",
    "\n",
    "from IPython.core.display import display, HTML\n",
    "display(HTML(\"<style>.container { width:100% !important; }</style>\"))\n",
    "\n",
    "import pandas as pd\n",
    "import numpy as np\n",
    "import matplotlib.pyplot as plt\n",
    "from jupyterthemes import jtplot\n",
    "jtplot.style()\n",
    "import seaborn as sns\n",
    "import statsmodels\n",
    "import sklearn"
   ]
  },
  {
   "cell_type": "code",
   "execution_count": 2,
   "metadata": {},
   "outputs": [
    {
     "data": {
      "text/html": [
       "<div>\n",
       "<style scoped>\n",
       "    .dataframe tbody tr th:only-of-type {\n",
       "        vertical-align: middle;\n",
       "    }\n",
       "\n",
       "    .dataframe tbody tr th {\n",
       "        vertical-align: top;\n",
       "    }\n",
       "\n",
       "    .dataframe thead th {\n",
       "        text-align: right;\n",
       "    }\n",
       "</style>\n",
       "<table border=\"1\" class=\"dataframe\">\n",
       "  <thead>\n",
       "    <tr style=\"text-align: right;\">\n",
       "      <th></th>\n",
       "      <th>Country</th>\n",
       "      <th>Subject</th>\n",
       "      <th>Measure</th>\n",
       "      <th>Year</th>\n",
       "      <th>Value</th>\n",
       "    </tr>\n",
       "  </thead>\n",
       "  <tbody>\n",
       "    <tr>\n",
       "      <th>0</th>\n",
       "      <td>Australia</td>\n",
       "      <td>Gross Domestic Product (GDP); millions</td>\n",
       "      <td>National currency, current prices</td>\n",
       "      <td>1970</td>\n",
       "      <td>40314.0</td>\n",
       "    </tr>\n",
       "    <tr>\n",
       "      <th>1</th>\n",
       "      <td>Australia</td>\n",
       "      <td>Gross Domestic Product (GDP); millions</td>\n",
       "      <td>National currency, current prices</td>\n",
       "      <td>1971</td>\n",
       "      <td>44484.0</td>\n",
       "    </tr>\n",
       "    <tr>\n",
       "      <th>2</th>\n",
       "      <td>Australia</td>\n",
       "      <td>Gross Domestic Product (GDP); millions</td>\n",
       "      <td>National currency, current prices</td>\n",
       "      <td>1972</td>\n",
       "      <td>49747.0</td>\n",
       "    </tr>\n",
       "    <tr>\n",
       "      <th>3</th>\n",
       "      <td>Australia</td>\n",
       "      <td>Gross Domestic Product (GDP); millions</td>\n",
       "      <td>National currency, current prices</td>\n",
       "      <td>1973</td>\n",
       "      <td>60272.0</td>\n",
       "    </tr>\n",
       "    <tr>\n",
       "      <th>4</th>\n",
       "      <td>Australia</td>\n",
       "      <td>Gross Domestic Product (GDP); millions</td>\n",
       "      <td>National currency, current prices</td>\n",
       "      <td>1974</td>\n",
       "      <td>71158.0</td>\n",
       "    </tr>\n",
       "  </tbody>\n",
       "</table>\n",
       "</div>"
      ],
      "text/plain": [
       "     Country                                 Subject  \\\n",
       "0  Australia  Gross Domestic Product (GDP); millions   \n",
       "1  Australia  Gross Domestic Product (GDP); millions   \n",
       "2  Australia  Gross Domestic Product (GDP); millions   \n",
       "3  Australia  Gross Domestic Product (GDP); millions   \n",
       "4  Australia  Gross Domestic Product (GDP); millions   \n",
       "\n",
       "                             Measure  Year    Value  \n",
       "0  National currency, current prices  1970  40314.0  \n",
       "1  National currency, current prices  1971  44484.0  \n",
       "2  National currency, current prices  1972  49747.0  \n",
       "3  National currency, current prices  1973  60272.0  \n",
       "4  National currency, current prices  1974  71158.0  "
      ]
     },
     "execution_count": 2,
     "metadata": {},
     "output_type": "execute_result"
    }
   ],
   "source": [
    "df_gdp = pd.read_csv('../data/processed/gdp_per_capita.csv')\n",
    "df_gdp.head()"
   ]
  },
  {
   "cell_type": "code",
   "execution_count": 3,
   "metadata": {},
   "outputs": [
    {
     "data": {
      "text/html": [
       "<div>\n",
       "<style scoped>\n",
       "    .dataframe tbody tr th:only-of-type {\n",
       "        vertical-align: middle;\n",
       "    }\n",
       "\n",
       "    .dataframe tbody tr th {\n",
       "        vertical-align: top;\n",
       "    }\n",
       "\n",
       "    .dataframe thead th {\n",
       "        text-align: right;\n",
       "    }\n",
       "</style>\n",
       "<table border=\"1\" class=\"dataframe\">\n",
       "  <thead>\n",
       "    <tr style=\"text-align: right;\">\n",
       "      <th></th>\n",
       "      <th>Country</th>\n",
       "      <th>Subject</th>\n",
       "      <th>Measure</th>\n",
       "      <th>Year</th>\n",
       "      <th>Unit</th>\n",
       "      <th>Value</th>\n",
       "    </tr>\n",
       "  </thead>\n",
       "  <tbody>\n",
       "    <tr>\n",
       "      <th>0</th>\n",
       "      <td>Australia</td>\n",
       "      <td>Total capital services</td>\n",
       "      <td>Annual growth/change</td>\n",
       "      <td>1985</td>\n",
       "      <td>Percentage</td>\n",
       "      <td>5.122257</td>\n",
       "    </tr>\n",
       "    <tr>\n",
       "      <th>1</th>\n",
       "      <td>Australia</td>\n",
       "      <td>Total capital services</td>\n",
       "      <td>Annual growth/change</td>\n",
       "      <td>1986</td>\n",
       "      <td>Percentage</td>\n",
       "      <td>4.945708</td>\n",
       "    </tr>\n",
       "    <tr>\n",
       "      <th>2</th>\n",
       "      <td>Australia</td>\n",
       "      <td>Total capital services</td>\n",
       "      <td>Annual growth/change</td>\n",
       "      <td>1987</td>\n",
       "      <td>Percentage</td>\n",
       "      <td>4.964987</td>\n",
       "    </tr>\n",
       "    <tr>\n",
       "      <th>3</th>\n",
       "      <td>Australia</td>\n",
       "      <td>Total capital services</td>\n",
       "      <td>Annual growth/change</td>\n",
       "      <td>1988</td>\n",
       "      <td>Percentage</td>\n",
       "      <td>5.063412</td>\n",
       "    </tr>\n",
       "    <tr>\n",
       "      <th>4</th>\n",
       "      <td>Australia</td>\n",
       "      <td>Total capital services</td>\n",
       "      <td>Annual growth/change</td>\n",
       "      <td>1989</td>\n",
       "      <td>Percentage</td>\n",
       "      <td>4.829607</td>\n",
       "    </tr>\n",
       "  </tbody>\n",
       "</table>\n",
       "</div>"
      ],
      "text/plain": [
       "     Country                 Subject               Measure  Year        Unit  \\\n",
       "0  Australia  Total capital services  Annual growth/change  1985  Percentage   \n",
       "1  Australia  Total capital services  Annual growth/change  1986  Percentage   \n",
       "2  Australia  Total capital services  Annual growth/change  1987  Percentage   \n",
       "3  Australia  Total capital services  Annual growth/change  1988  Percentage   \n",
       "4  Australia  Total capital services  Annual growth/change  1989  Percentage   \n",
       "\n",
       "      Value  \n",
       "0  5.122257  \n",
       "1  4.945708  \n",
       "2  4.964987  \n",
       "3  5.063412  \n",
       "4  4.829607  "
      ]
     },
     "execution_count": 3,
     "metadata": {},
     "output_type": "execute_result"
    }
   ],
   "source": [
    "df_prod = pd.read_csv('../data/processed/productivity_growth.csv')\n",
    "df_prod.head()"
   ]
  },
  {
   "cell_type": "code",
   "execution_count": 4,
   "metadata": {},
   "outputs": [
    {
     "data": {
      "text/plain": [
       "array(['Gross Domestic Product (GDP); millions',\n",
       "       'GDP per head of population', 'GDP per hour worked',\n",
       "       'GDP per person employed',\n",
       "       'Labour utilisation (hours worked per head of population)',\n",
       "       'Hours worked for total employment; millions',\n",
       "       'Gap in GDP per hour worked with respect to the USA',\n",
       "       'Total population; persons; thousands',\n",
       "       'Gap in GDP per capita with respect to the USA',\n",
       "       'Total employment (number of persons employed); thousands',\n",
       "       'Gap in labour utilisation with respect to the USA',\n",
       "       'Average hours worked per person employed'], dtype=object)"
      ]
     },
     "execution_count": 4,
     "metadata": {},
     "output_type": "execute_result"
    }
   ],
   "source": [
    "df_gdp['Subject'].unique()"
   ]
  },
  {
   "cell_type": "code",
   "execution_count": 5,
   "metadata": {},
   "outputs": [
    {
     "data": {
      "text/plain": [
       "array(['Australia', 'Austria', 'Belgium', 'Canada', 'Czech Republic',\n",
       "       'Denmark', 'Finland', 'France', 'Germany', 'Greece', 'Hungary',\n",
       "       'Iceland', 'Ireland', 'Italy', 'Japan', 'Korea', 'Luxembourg',\n",
       "       'Mexico', 'Netherlands', 'New Zealand', 'Norway', 'Poland',\n",
       "       'Portugal', 'Slovak Republic', 'Spain', 'Sweden', 'Switzerland',\n",
       "       'Turkey', 'United Kingdom', 'United States', 'Brazil', 'Chile',\n",
       "       \"China (People's Republic of)\", 'Estonia', 'India', 'Indonesia',\n",
       "       'Israel', 'Russia', 'Slovenia', 'South Africa',\n",
       "       'BRIICS economies - Brazil, Russia, India, Indonesia, China and South Africa',\n",
       "       'European Union (28 countries)', 'OECD - Total', 'G7', 'Colombia',\n",
       "       'Latvia', 'Lithuania', 'Euro area (19 countries)'], dtype=object)"
      ]
     },
     "execution_count": 5,
     "metadata": {},
     "output_type": "execute_result"
    }
   ],
   "source": [
    "df_gdp['Country'].unique()"
   ]
  },
  {
   "cell_type": "code",
   "execution_count": 6,
   "metadata": {},
   "outputs": [
    {
     "data": {
      "text/plain": [
       "array(['National currency, current prices',\n",
       "       'USD, current prices, current PPPs',\n",
       "       'USD, constant prices, 2015 PPPs', 'As % of the USA (USA=100)',\n",
       "       'Persons/Hours', 'Gap in % points'], dtype=object)"
      ]
     },
     "execution_count": 6,
     "metadata": {},
     "output_type": "execute_result"
    }
   ],
   "source": [
    "df_gdp['Measure'].unique()"
   ]
  },
  {
   "cell_type": "code",
   "execution_count": 7,
   "metadata": {},
   "outputs": [],
   "source": [
    "def make_prod_gdp_data(df_prod, df_gdp):\n",
    "    mutual_countries = [c for c in df_gdp['Country'].unique() if c in df_prod['Country'].unique()]\n",
    "    qry = \" | \".join([f\"(Country == '{i}')\" for i in mutual_countries])\n",
    "    dff_prod = df_prod.query(qry, engine='python')\n",
    "    dff_gdp = df_gdp.query(qry, engine='python')\n",
    "    dff_gdp = dff_gdp[dff_gdp['Measure'] == 'USD, current prices, current PPPs']\n",
    "    \n",
    "    return(dff_prod, dff_gdp)\n",
    "\n",
    "dff_prod, dff_gdp = make_prod_gdp_data(df_prod, df_gdp)\n"
   ]
  },
  {
   "cell_type": "code",
   "execution_count": 8,
   "metadata": {},
   "outputs": [
    {
     "data": {
      "text/html": [
       "<div>\n",
       "<style scoped>\n",
       "    .dataframe tbody tr th:only-of-type {\n",
       "        vertical-align: middle;\n",
       "    }\n",
       "\n",
       "    .dataframe tbody tr th {\n",
       "        vertical-align: top;\n",
       "    }\n",
       "\n",
       "    .dataframe thead th {\n",
       "        text-align: right;\n",
       "    }\n",
       "</style>\n",
       "<table border=\"1\" class=\"dataframe\">\n",
       "  <thead>\n",
       "    <tr style=\"text-align: right;\">\n",
       "      <th></th>\n",
       "      <th>Country</th>\n",
       "      <th>Subject</th>\n",
       "      <th>Measure</th>\n",
       "      <th>Year</th>\n",
       "      <th>Unit</th>\n",
       "      <th>Value</th>\n",
       "    </tr>\n",
       "  </thead>\n",
       "  <tbody>\n",
       "    <tr>\n",
       "      <th>0</th>\n",
       "      <td>Australia</td>\n",
       "      <td>Total capital services</td>\n",
       "      <td>Annual growth/change</td>\n",
       "      <td>1985</td>\n",
       "      <td>Percentage</td>\n",
       "      <td>5.122257</td>\n",
       "    </tr>\n",
       "    <tr>\n",
       "      <th>1</th>\n",
       "      <td>Australia</td>\n",
       "      <td>Total capital services</td>\n",
       "      <td>Annual growth/change</td>\n",
       "      <td>1986</td>\n",
       "      <td>Percentage</td>\n",
       "      <td>4.945708</td>\n",
       "    </tr>\n",
       "    <tr>\n",
       "      <th>2</th>\n",
       "      <td>Australia</td>\n",
       "      <td>Total capital services</td>\n",
       "      <td>Annual growth/change</td>\n",
       "      <td>1987</td>\n",
       "      <td>Percentage</td>\n",
       "      <td>4.964987</td>\n",
       "    </tr>\n",
       "    <tr>\n",
       "      <th>3</th>\n",
       "      <td>Australia</td>\n",
       "      <td>Total capital services</td>\n",
       "      <td>Annual growth/change</td>\n",
       "      <td>1988</td>\n",
       "      <td>Percentage</td>\n",
       "      <td>5.063412</td>\n",
       "    </tr>\n",
       "    <tr>\n",
       "      <th>4</th>\n",
       "      <td>Australia</td>\n",
       "      <td>Total capital services</td>\n",
       "      <td>Annual growth/change</td>\n",
       "      <td>1989</td>\n",
       "      <td>Percentage</td>\n",
       "      <td>4.829607</td>\n",
       "    </tr>\n",
       "  </tbody>\n",
       "</table>\n",
       "</div>"
      ],
      "text/plain": [
       "     Country                 Subject               Measure  Year        Unit  \\\n",
       "0  Australia  Total capital services  Annual growth/change  1985  Percentage   \n",
       "1  Australia  Total capital services  Annual growth/change  1986  Percentage   \n",
       "2  Australia  Total capital services  Annual growth/change  1987  Percentage   \n",
       "3  Australia  Total capital services  Annual growth/change  1988  Percentage   \n",
       "4  Australia  Total capital services  Annual growth/change  1989  Percentage   \n",
       "\n",
       "      Value  \n",
       "0  5.122257  \n",
       "1  4.945708  \n",
       "2  4.964987  \n",
       "3  5.063412  \n",
       "4  4.829607  "
      ]
     },
     "execution_count": 8,
     "metadata": {},
     "output_type": "execute_result"
    }
   ],
   "source": [
    "dff_prod.head()"
   ]
  },
  {
   "cell_type": "code",
   "execution_count": 9,
   "metadata": {},
   "outputs": [
    {
     "data": {
      "text/plain": [
       "array([1985, 1986, 1987, 1988, 1989, 1990, 1991, 1992, 1993, 1994, 1995,\n",
       "       1996, 1997, 1998, 1999, 2000, 2001, 2002, 2003, 2004, 2005, 2006,\n",
       "       2007, 2008, 2009, 2010, 2011, 2012, 2013, 2014, 2015, 2016, 2017,\n",
       "       2018, 2019, 1971, 1972, 1973, 1974, 1975, 1976, 1977, 1978, 1979,\n",
       "       1980, 1981, 1982, 1983, 1984], dtype=int64)"
      ]
     },
     "execution_count": 9,
     "metadata": {},
     "output_type": "execute_result"
    }
   ],
   "source": [
    "dff_prod.Year.unique()"
   ]
  },
  {
   "cell_type": "code",
   "execution_count": 10,
   "metadata": {},
   "outputs": [
    {
     "data": {
      "text/plain": [
       "array([1970, 1971, 1972, 1973, 1974, 1975, 1976, 1977, 1978, 1979, 1980,\n",
       "       1981, 1982, 1983, 1984, 1985, 1986, 1987, 1988, 1989, 1990, 1991,\n",
       "       1992, 1993, 1994, 1995, 1996, 1997, 1998, 1999, 2000, 2001, 2002,\n",
       "       2003, 2004, 2005, 2006, 2007, 2008, 2009, 2010, 2011, 2012, 2013,\n",
       "       2014, 2015, 2016, 2017, 2018, 2019], dtype=int64)"
      ]
     },
     "execution_count": 10,
     "metadata": {},
     "output_type": "execute_result"
    }
   ],
   "source": [
    "dff_gdp.Year.unique()"
   ]
  },
  {
   "cell_type": "code",
   "execution_count": 11,
   "metadata": {},
   "outputs": [
    {
     "data": {
      "text/html": [
       "<div>\n",
       "<style scoped>\n",
       "    .dataframe tbody tr th:only-of-type {\n",
       "        vertical-align: middle;\n",
       "    }\n",
       "\n",
       "    .dataframe tbody tr th {\n",
       "        vertical-align: top;\n",
       "    }\n",
       "\n",
       "    .dataframe thead th {\n",
       "        text-align: right;\n",
       "    }\n",
       "</style>\n",
       "<table border=\"1\" class=\"dataframe\">\n",
       "  <thead>\n",
       "    <tr style=\"text-align: right;\">\n",
       "      <th></th>\n",
       "      <th>Country</th>\n",
       "      <th>Subject</th>\n",
       "      <th>Measure</th>\n",
       "      <th>Year</th>\n",
       "      <th>Value</th>\n",
       "    </tr>\n",
       "  </thead>\n",
       "  <tbody>\n",
       "    <tr>\n",
       "      <th>200</th>\n",
       "      <td>Australia</td>\n",
       "      <td>Gross Domestic Product (GDP); millions</td>\n",
       "      <td>USD, current prices, current PPPs</td>\n",
       "      <td>1970</td>\n",
       "      <td>58744.340</td>\n",
       "    </tr>\n",
       "    <tr>\n",
       "      <th>201</th>\n",
       "      <td>Australia</td>\n",
       "      <td>Gross Domestic Product (GDP); millions</td>\n",
       "      <td>USD, current prices, current PPPs</td>\n",
       "      <td>1971</td>\n",
       "      <td>64010.806</td>\n",
       "    </tr>\n",
       "    <tr>\n",
       "      <th>202</th>\n",
       "      <td>Australia</td>\n",
       "      <td>Gross Domestic Product (GDP); millions</td>\n",
       "      <td>USD, current prices, current PPPs</td>\n",
       "      <td>1972</td>\n",
       "      <td>69668.594</td>\n",
       "    </tr>\n",
       "    <tr>\n",
       "      <th>203</th>\n",
       "      <td>Australia</td>\n",
       "      <td>Gross Domestic Product (GDP); millions</td>\n",
       "      <td>USD, current prices, current PPPs</td>\n",
       "      <td>1973</td>\n",
       "      <td>78686.076</td>\n",
       "    </tr>\n",
       "    <tr>\n",
       "      <th>204</th>\n",
       "      <td>Australia</td>\n",
       "      <td>Gross Domestic Product (GDP); millions</td>\n",
       "      <td>USD, current prices, current PPPs</td>\n",
       "      <td>1974</td>\n",
       "      <td>86151.644</td>\n",
       "    </tr>\n",
       "  </tbody>\n",
       "</table>\n",
       "</div>"
      ],
      "text/plain": [
       "       Country                                 Subject  \\\n",
       "200  Australia  Gross Domestic Product (GDP); millions   \n",
       "201  Australia  Gross Domestic Product (GDP); millions   \n",
       "202  Australia  Gross Domestic Product (GDP); millions   \n",
       "203  Australia  Gross Domestic Product (GDP); millions   \n",
       "204  Australia  Gross Domestic Product (GDP); millions   \n",
       "\n",
       "                               Measure  Year      Value  \n",
       "200  USD, current prices, current PPPs  1970  58744.340  \n",
       "201  USD, current prices, current PPPs  1971  64010.806  \n",
       "202  USD, current prices, current PPPs  1972  69668.594  \n",
       "203  USD, current prices, current PPPs  1973  78686.076  \n",
       "204  USD, current prices, current PPPs  1974  86151.644  "
      ]
     },
     "execution_count": 11,
     "metadata": {},
     "output_type": "execute_result"
    }
   ],
   "source": [
    "dff_gdp.head()"
   ]
  },
  {
   "cell_type": "code",
   "execution_count": 12,
   "metadata": {},
   "outputs": [
    {
     "data": {
      "text/plain": [
       "dtype('int64')"
      ]
     },
     "execution_count": 12,
     "metadata": {},
     "output_type": "execute_result"
    }
   ],
   "source": [
    "dff_gdp.Year.dtype"
   ]
  },
  {
   "cell_type": "code",
   "execution_count": 13,
   "metadata": {},
   "outputs": [
    {
     "data": {
      "text/plain": [
       "dtype('int64')"
      ]
     },
     "execution_count": 13,
     "metadata": {},
     "output_type": "execute_result"
    }
   ],
   "source": [
    "dff_prod.Year.dtype"
   ]
  },
  {
   "cell_type": "code",
   "execution_count": 14,
   "metadata": {},
   "outputs": [],
   "source": [
    "# dff_prod.Year = dff_prod.Year.astype('str')\n",
    "# dff_gdp.Year = dff_gdp.Year.astype('str')"
   ]
  },
  {
   "cell_type": "code",
   "execution_count": 15,
   "metadata": {},
   "outputs": [
    {
     "data": {
      "text/html": [
       "<div>\n",
       "<style scoped>\n",
       "    .dataframe tbody tr th:only-of-type {\n",
       "        vertical-align: middle;\n",
       "    }\n",
       "\n",
       "    .dataframe tbody tr th {\n",
       "        vertical-align: top;\n",
       "    }\n",
       "\n",
       "    .dataframe thead th {\n",
       "        text-align: right;\n",
       "    }\n",
       "</style>\n",
       "<table border=\"1\" class=\"dataframe\">\n",
       "  <thead>\n",
       "    <tr style=\"text-align: right;\">\n",
       "      <th></th>\n",
       "      <th>Country</th>\n",
       "      <th>Subject</th>\n",
       "      <th>Measure</th>\n",
       "      <th>Year</th>\n",
       "      <th>Value</th>\n",
       "    </tr>\n",
       "  </thead>\n",
       "  <tbody>\n",
       "    <tr>\n",
       "      <th>0</th>\n",
       "      <td>Australia</td>\n",
       "      <td>Gross Domestic Product (GDP); millions</td>\n",
       "      <td>National currency, current prices</td>\n",
       "      <td>1970</td>\n",
       "      <td>40314.0</td>\n",
       "    </tr>\n",
       "    <tr>\n",
       "      <th>1</th>\n",
       "      <td>Australia</td>\n",
       "      <td>Gross Domestic Product (GDP); millions</td>\n",
       "      <td>National currency, current prices</td>\n",
       "      <td>1971</td>\n",
       "      <td>44484.0</td>\n",
       "    </tr>\n",
       "    <tr>\n",
       "      <th>2</th>\n",
       "      <td>Australia</td>\n",
       "      <td>Gross Domestic Product (GDP); millions</td>\n",
       "      <td>National currency, current prices</td>\n",
       "      <td>1972</td>\n",
       "      <td>49747.0</td>\n",
       "    </tr>\n",
       "    <tr>\n",
       "      <th>3</th>\n",
       "      <td>Australia</td>\n",
       "      <td>Gross Domestic Product (GDP); millions</td>\n",
       "      <td>National currency, current prices</td>\n",
       "      <td>1973</td>\n",
       "      <td>60272.0</td>\n",
       "    </tr>\n",
       "    <tr>\n",
       "      <th>4</th>\n",
       "      <td>Australia</td>\n",
       "      <td>Gross Domestic Product (GDP); millions</td>\n",
       "      <td>National currency, current prices</td>\n",
       "      <td>1974</td>\n",
       "      <td>71158.0</td>\n",
       "    </tr>\n",
       "  </tbody>\n",
       "</table>\n",
       "</div>"
      ],
      "text/plain": [
       "     Country                                 Subject  \\\n",
       "0  Australia  Gross Domestic Product (GDP); millions   \n",
       "1  Australia  Gross Domestic Product (GDP); millions   \n",
       "2  Australia  Gross Domestic Product (GDP); millions   \n",
       "3  Australia  Gross Domestic Product (GDP); millions   \n",
       "4  Australia  Gross Domestic Product (GDP); millions   \n",
       "\n",
       "                             Measure  Year    Value  \n",
       "0  National currency, current prices  1970  40314.0  \n",
       "1  National currency, current prices  1971  44484.0  \n",
       "2  National currency, current prices  1972  49747.0  \n",
       "3  National currency, current prices  1973  60272.0  \n",
       "4  National currency, current prices  1974  71158.0  "
      ]
     },
     "execution_count": 15,
     "metadata": {},
     "output_type": "execute_result"
    }
   ],
   "source": [
    "df_gdp.head()"
   ]
  },
  {
   "cell_type": "code",
   "execution_count": 16,
   "metadata": {},
   "outputs": [
    {
     "data": {
      "text/html": [
       "<div>\n",
       "<style scoped>\n",
       "    .dataframe tbody tr th:only-of-type {\n",
       "        vertical-align: middle;\n",
       "    }\n",
       "\n",
       "    .dataframe tbody tr th {\n",
       "        vertical-align: top;\n",
       "    }\n",
       "\n",
       "    .dataframe thead th {\n",
       "        text-align: right;\n",
       "    }\n",
       "</style>\n",
       "<table border=\"1\" class=\"dataframe\">\n",
       "  <thead>\n",
       "    <tr style=\"text-align: right;\">\n",
       "      <th>Subject</th>\n",
       "      <th>Country</th>\n",
       "      <th>Year</th>\n",
       "      <th>GDP per head of population</th>\n",
       "      <th>GDP per hour worked</th>\n",
       "      <th>GDP per person employed</th>\n",
       "      <th>Gross Domestic Product (GDP); millions</th>\n",
       "    </tr>\n",
       "  </thead>\n",
       "  <tbody>\n",
       "    <tr>\n",
       "      <th>0</th>\n",
       "      <td>Australia</td>\n",
       "      <td>1970</td>\n",
       "      <td>4638.882126</td>\n",
       "      <td>5.762338</td>\n",
       "      <td>10750.133182</td>\n",
       "      <td>58744.340</td>\n",
       "    </tr>\n",
       "    <tr>\n",
       "      <th>1</th>\n",
       "      <td>Australia</td>\n",
       "      <td>1971</td>\n",
       "      <td>4849.898700</td>\n",
       "      <td>6.193551</td>\n",
       "      <td>11443.716691</td>\n",
       "      <td>64010.806</td>\n",
       "    </tr>\n",
       "    <tr>\n",
       "      <th>2</th>\n",
       "      <td>Australia</td>\n",
       "      <td>1972</td>\n",
       "      <td>5195.547594</td>\n",
       "      <td>6.713858</td>\n",
       "      <td>12273.964954</td>\n",
       "      <td>69668.594</td>\n",
       "    </tr>\n",
       "    <tr>\n",
       "      <th>3</th>\n",
       "      <td>Australia</td>\n",
       "      <td>1973</td>\n",
       "      <td>5779.645057</td>\n",
       "      <td>7.434041</td>\n",
       "      <td>13495.292839</td>\n",
       "      <td>78686.076</td>\n",
       "    </tr>\n",
       "    <tr>\n",
       "      <th>4</th>\n",
       "      <td>Australia</td>\n",
       "      <td>1974</td>\n",
       "      <td>6228.439924</td>\n",
       "      <td>7.903118</td>\n",
       "      <td>14477.859970</td>\n",
       "      <td>86151.644</td>\n",
       "    </tr>\n",
       "  </tbody>\n",
       "</table>\n",
       "</div>"
      ],
      "text/plain": [
       "Subject    Country  Year  GDP per head of population  GDP per hour worked  \\\n",
       "0        Australia  1970                 4638.882126             5.762338   \n",
       "1        Australia  1971                 4849.898700             6.193551   \n",
       "2        Australia  1972                 5195.547594             6.713858   \n",
       "3        Australia  1973                 5779.645057             7.434041   \n",
       "4        Australia  1974                 6228.439924             7.903118   \n",
       "\n",
       "Subject  GDP per person employed  Gross Domestic Product (GDP); millions  \n",
       "0                   10750.133182                               58744.340  \n",
       "1                   11443.716691                               64010.806  \n",
       "2                   12273.964954                               69668.594  \n",
       "3                   13495.292839                               78686.076  \n",
       "4                   14477.859970                               86151.644  "
      ]
     },
     "execution_count": 16,
     "metadata": {},
     "output_type": "execute_result"
    }
   ],
   "source": [
    "dffp_gdp = pd.pivot_table(dff_gdp, values='Value', index=['Country', 'Year'], columns='Subject').reset_index()\n",
    "dffp_gdp.head()"
   ]
  },
  {
   "cell_type": "code",
   "execution_count": 17,
   "metadata": {},
   "outputs": [],
   "source": [
    "dfm = pd.merge(dffp_gdp, dff_prod, how='left', left_on=['Country', 'Year'], right_on=['Country', 'Year'])"
   ]
  },
  {
   "cell_type": "code",
   "execution_count": 19,
   "metadata": {},
   "outputs": [],
   "source": [
    "dfm = dfm.dropna()"
   ]
  },
  {
   "cell_type": "code",
   "execution_count": 26,
   "metadata": {},
   "outputs": [
    {
     "data": {
      "text/plain": [
       "29.046274687013064"
      ]
     },
     "execution_count": 26,
     "metadata": {},
     "output_type": "execute_result"
    }
   ],
   "source": []
  },
  {
   "cell_type": "code",
   "execution_count": 20,
   "metadata": {},
   "outputs": [
    {
     "data": {
      "text/plain": [
       "array(['Australia', 'Austria', 'Belgium', 'Canada', 'Chile',\n",
       "       'Czech Republic', 'Denmark', 'Estonia', 'Euro area (19 countries)',\n",
       "       'European Union (28 countries)', 'Finland', 'France', 'G7',\n",
       "       'Germany', 'Greece', 'Hungary', 'Iceland', 'Ireland', 'Israel',\n",
       "       'Italy', 'Japan', 'Korea', 'Latvia', 'Lithuania', 'Luxembourg',\n",
       "       'Mexico', 'Netherlands', 'New Zealand', 'Norway', 'OECD - Total',\n",
       "       'Poland', 'Portugal', 'Russia', 'Slovak Republic', 'Slovenia',\n",
       "       'South Africa', 'Spain', 'Sweden', 'Switzerland', 'Turkey',\n",
       "       'United Kingdom', 'United States'], dtype=object)"
      ]
     },
     "execution_count": 20,
     "metadata": {},
     "output_type": "execute_result"
    }
   ],
   "source": [
    "dfm.Country.unique()"
   ]
  },
  {
   "cell_type": "code",
   "execution_count": 21,
   "metadata": {},
   "outputs": [
    {
     "data": {
      "text/html": [
       "<div>\n",
       "<style scoped>\n",
       "    .dataframe tbody tr th:only-of-type {\n",
       "        vertical-align: middle;\n",
       "    }\n",
       "\n",
       "    .dataframe tbody tr th {\n",
       "        vertical-align: top;\n",
       "    }\n",
       "\n",
       "    .dataframe thead th {\n",
       "        text-align: right;\n",
       "    }\n",
       "</style>\n",
       "<table border=\"1\" class=\"dataframe\">\n",
       "  <thead>\n",
       "    <tr style=\"text-align: right;\">\n",
       "      <th></th>\n",
       "      <th>Country</th>\n",
       "      <th>Year</th>\n",
       "      <th>GDP per head of population</th>\n",
       "      <th>GDP per hour worked</th>\n",
       "      <th>GDP per person employed</th>\n",
       "      <th>Gross Domestic Product (GDP); millions</th>\n",
       "      <th>Subject</th>\n",
       "      <th>Measure</th>\n",
       "      <th>Unit</th>\n",
       "      <th>Value</th>\n",
       "      <th>Region</th>\n",
       "    </tr>\n",
       "  </thead>\n",
       "  <tbody>\n",
       "    <tr>\n",
       "      <th>1</th>\n",
       "      <td>Australia</td>\n",
       "      <td>1971</td>\n",
       "      <td>4849.8987</td>\n",
       "      <td>6.193551</td>\n",
       "      <td>11443.716691</td>\n",
       "      <td>64010.806</td>\n",
       "      <td>GDP per hour worked, constant prices</td>\n",
       "      <td>Annual growth/change</td>\n",
       "      <td>Percentage</td>\n",
       "      <td>2.499595</td>\n",
       "      <td>Oceania</td>\n",
       "    </tr>\n",
       "    <tr>\n",
       "      <th>2</th>\n",
       "      <td>Australia</td>\n",
       "      <td>1971</td>\n",
       "      <td>4849.8987</td>\n",
       "      <td>6.193551</td>\n",
       "      <td>11443.716691</td>\n",
       "      <td>64010.806</td>\n",
       "      <td>Total hours worked</td>\n",
       "      <td>Annual growth/change</td>\n",
       "      <td>Percentage</td>\n",
       "      <td>1.378602</td>\n",
       "      <td>Oceania</td>\n",
       "    </tr>\n",
       "    <tr>\n",
       "      <th>3</th>\n",
       "      <td>Australia</td>\n",
       "      <td>1971</td>\n",
       "      <td>4849.8987</td>\n",
       "      <td>6.193551</td>\n",
       "      <td>11443.716691</td>\n",
       "      <td>64010.806</td>\n",
       "      <td>Average hours worked per person employed</td>\n",
       "      <td>Annual growth/change</td>\n",
       "      <td>Percentage</td>\n",
       "      <td>-0.959623</td>\n",
       "      <td>Oceania</td>\n",
       "    </tr>\n",
       "    <tr>\n",
       "      <th>4</th>\n",
       "      <td>Australia</td>\n",
       "      <td>1971</td>\n",
       "      <td>4849.8987</td>\n",
       "      <td>6.193551</td>\n",
       "      <td>11443.716691</td>\n",
       "      <td>64010.806</td>\n",
       "      <td>GDP per person employed, constant prices</td>\n",
       "      <td>Annual growth/change</td>\n",
       "      <td>Percentage</td>\n",
       "      <td>1.515985</td>\n",
       "      <td>Oceania</td>\n",
       "    </tr>\n",
       "    <tr>\n",
       "      <th>5</th>\n",
       "      <td>Australia</td>\n",
       "      <td>1971</td>\n",
       "      <td>4849.8987</td>\n",
       "      <td>6.193551</td>\n",
       "      <td>11443.716691</td>\n",
       "      <td>64010.806</td>\n",
       "      <td>Total employment (number of persons employed)</td>\n",
       "      <td>Annual growth/change</td>\n",
       "      <td>Percentage</td>\n",
       "      <td>2.360881</td>\n",
       "      <td>Oceania</td>\n",
       "    </tr>\n",
       "  </tbody>\n",
       "</table>\n",
       "</div>"
      ],
      "text/plain": [
       "     Country  Year  GDP per head of population  GDP per hour worked  \\\n",
       "1  Australia  1971                   4849.8987             6.193551   \n",
       "2  Australia  1971                   4849.8987             6.193551   \n",
       "3  Australia  1971                   4849.8987             6.193551   \n",
       "4  Australia  1971                   4849.8987             6.193551   \n",
       "5  Australia  1971                   4849.8987             6.193551   \n",
       "\n",
       "   GDP per person employed  Gross Domestic Product (GDP); millions  \\\n",
       "1             11443.716691                               64010.806   \n",
       "2             11443.716691                               64010.806   \n",
       "3             11443.716691                               64010.806   \n",
       "4             11443.716691                               64010.806   \n",
       "5             11443.716691                               64010.806   \n",
       "\n",
       "                                         Subject               Measure  \\\n",
       "1           GDP per hour worked, constant prices  Annual growth/change   \n",
       "2                             Total hours worked  Annual growth/change   \n",
       "3       Average hours worked per person employed  Annual growth/change   \n",
       "4       GDP per person employed, constant prices  Annual growth/change   \n",
       "5  Total employment (number of persons employed)  Annual growth/change   \n",
       "\n",
       "         Unit     Value   Region  \n",
       "1  Percentage  2.499595  Oceania  \n",
       "2  Percentage  1.378602  Oceania  \n",
       "3  Percentage -0.959623  Oceania  \n",
       "4  Percentage  1.515985  Oceania  \n",
       "5  Percentage  2.360881  Oceania  "
      ]
     },
     "execution_count": 21,
     "metadata": {},
     "output_type": "execute_result"
    }
   ],
   "source": [
    "def region_map(x):\n",
    "    if x in ['Australia', 'New Zealand']:\n",
    "        return 'Oceania'\n",
    "    if x in ['Austria', 'Czech Republic', 'Hungary', 'Italy', 'Poland', 'Slovak Republic', 'Slovania']:\n",
    "        return 'Central Europe'\n",
    "    if x in ['Belgium', 'France', 'Germany', 'Luxembourg']:\n",
    "        return 'Western Europe'\n",
    "    if x in ['Denmark', 'Estonia', 'Finland', 'Iceland', 'Latvia', 'Lithuania', 'Netherlands', 'Norway', 'Ireland', 'Sweden', 'Switzerland']:\n",
    "        return 'Northern Europe'\n",
    "    if x in ['Greece', 'Portugal', 'Spain']:\n",
    "        return 'Southern Europe'\n",
    "    if x in ['Russia']:\n",
    "        return 'Eastern Europe'\n",
    "    if x in ['Canada', 'United States', 'Mexico']:\n",
    "        return 'North America'\n",
    "    if x in ['Chile']:\n",
    "        return 'South America'\n",
    "    if x in ['Israel', 'Turkey']:\n",
    "        return 'Middle East'\n",
    "    if x in ['Japan', 'Korea']:\n",
    "        return 'East Asia'\n",
    "    if x in ['South Africa']:\n",
    "        return 'Africa'\n",
    "    \n",
    "dfm['Region'] = dfm['Country'].map(lambda x: region_map(x))\n",
    "dfm.head()"
   ]
  },
  {
   "cell_type": "code",
   "execution_count": 27,
   "metadata": {},
   "outputs": [
    {
     "data": {
      "text/plain": [
       "0.8366600265340756"
      ]
     },
     "execution_count": 27,
     "metadata": {},
     "output_type": "execute_result"
    }
   ],
   "source": [
    "np.sqrt(0.7)"
   ]
  }
 ],
 "metadata": {
  "kernelspec": {
   "display_name": "Python 3",
   "language": "python",
   "name": "python3"
  },
  "language_info": {
   "codemirror_mode": {
    "name": "ipython",
    "version": 3
   },
   "file_extension": ".py",
   "mimetype": "text/x-python",
   "name": "python",
   "nbconvert_exporter": "python",
   "pygments_lexer": "ipython3",
   "version": "3.7.3"
  }
 },
 "nbformat": 4,
 "nbformat_minor": 2
}
